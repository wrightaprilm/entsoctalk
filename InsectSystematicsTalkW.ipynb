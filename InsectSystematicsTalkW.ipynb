{
 "cells": [
  {
   "cell_type": "markdown",
   "metadata": {
    "slideshow": {
     "slide_type": "slide"
    }
   },
   "source": [
    "# Model-Based Inference from Discrete Characters in the Formicidae\n",
    "\n",
    "### Or: How can we use Bayesian inference to incorporate our systematic knowledge \n",
    "\n",
    "April Wright, Southeastern Louisiana University"
   ]
  },
  {
   "cell_type": "markdown",
   "metadata": {
    "slideshow": {
     "slide_type": "slide"
    }
   },
   "source": [
    "# Bayesian vs. Parsimony\n",
    "- A lot of ink has been spilled on this debate\n",
    "<img src=\"assets/Wright2014.png\" alt=\"Drawing\" style=\"width: 700px;\"/>\n",
    "<img src=\"assets/Goloboff.png\" alt=\"Drawing\" style=\"width: 700px;\"/> \n"
   ]
  },
  {
   "cell_type": "markdown",
   "metadata": {
    "slideshow": {
     "slide_type": "slide"
    }
   },
   "source": [
    "# Bayesian Mk Model vs. Maximum Parsimony\n",
    "- I am going to argue throughout this talk, that this is precisely the wrong question to focus on\n"
   ]
  },
  {
   "cell_type": "markdown",
   "metadata": {
    "slideshow": {
     "slide_type": "slide"
    }
   },
   "source": [
    "# Bayesian Mk Model and Maximum Parsimony\n",
    "- I am going to argue throughout this talk, that this is precisely the wrong question to focus on\n",
    "    - The base assumptions of these methods are not all that different\n",
    "<img src=\"assets/4symmetry.png\" alt=\"drawing\" width=\"400\"/>\n",
    "    "
   ]
  },
  {
   "cell_type": "markdown",
   "metadata": {
    "slideshow": {
     "slide_type": "slide"
    }
   },
   "source": [
    "# Bayesian Mk Model and Maximum Parsimony\n",
    "- There are differences between these methods:\n",
    "    - Bayesian methods return a rate-based branch length, and can accept convergence as a solution for a character\n",
    "\n",
    "<img src=\"assets/Ward.png\" alt=\"Ward\" width=\"400\"/>\n",
    "\n"
   ]
  },
  {
   "cell_type": "markdown",
   "metadata": {
    "slideshow": {
     "slide_type": "slide"
    }
   },
   "source": [
    "# Bayesian Mk Model and Maximum Parsimony\n",
    "- There are differences between these methods:\n",
    "    - Bayesian methods return a rate-based branch length, and can accept convergence as a solution for a character\n",
    "    - Bayesian methods allow for multiple changes on a branch, and change to occur anywhere on the branch\n",
    "    \n",
    "    <table><tr>\n",
    "    <td> <img src=\"assets/HuelP.png\" alt=\"Drawing\" style=\"width: 600px;\"/> </td>\n",
    "    <td> <img src=\"assets/HuelL.png\" alt=\"Drawing\" style=\"width: 600px;\"/> </td>\n",
    "    </tr></table>\n",
    "Huelsenbeck, 1998"
   ]
  },
  {
   "cell_type": "markdown",
   "metadata": {
    "slideshow": {
     "slide_type": "slide"
    }
   },
   "source": [
    "# Bayesian Mk Model and Maximum Parsimony\n",
    "- There are differences between these methods:\n",
    "    - Bayesian methods return a rate-based branch length, and can accept convergence as a solution for a character\n",
    "    - Bayesian methods allow for multiple changes on a branch, and change to occur anywhere on the branch\n",
    "    - Parsimony allows every character to have its own history and number of changes\n",
    "    \n",
    "    <img src=\"assets/NCM.png\" alt=\"Holder, Lewis, Swofford 2010\" width=\"600\"/>\n"
   ]
  },
  {
   "cell_type": "markdown",
   "metadata": {
    "slideshow": {
     "slide_type": "slide"
    }
   },
   "source": [
    "# Bayesian Mk Model and Maximum Parsimony\n",
    "\n",
    "- I am going to argue throughout this talk, that this is precisely the wrong question to focus on\n",
    "    - Which model do we believe? "
   ]
  },
  {
   "cell_type": "markdown",
   "metadata": {
    "slideshow": {
     "slide_type": "slide"
    }
   },
   "source": [
    "# Bayesian Mk Model and Maximum Parsimony\n",
    "\n",
    "- I am going to argue throughout this talk, that this is precisely the wrong question to focus on\n",
    "    - Which model do we believe? \n",
    "    - Which model can we improve?"
   ]
  },
  {
   "cell_type": "markdown",
   "metadata": {
    "slideshow": {
     "slide_type": "slide"
    }
   },
   "source": [
    "# Bayesian Mk Model and Maximum Parsimony\n",
    "\n",
    "- I am going to argue throughout this talk, that this is precisely the wrong question to focus on\n",
    "    - Which model do we believe? \n",
    "    - Which model can we improve?\n",
    "        - Extensions to parsimony have been implemented, but there remains no rigorous statistical method for evaluating which type of parsimony is best"
   ]
  },
  {
   "cell_type": "markdown",
   "metadata": {
    "slideshow": {
     "slide_type": "slide"
    }
   },
   "source": [
    "# Extending the Mk model\n",
    "- Wright, Lloyd and Hillis 2016, adapting Mr. Bayes\n",
    "\n",
    "    <img src=\"assets/Wright.png\" alt=\"Wright, Lloyd, Hillis 2016\" width=\"800\"/>\n"
   ]
  },
  {
   "cell_type": "markdown",
   "metadata": {
    "slideshow": {
     "slide_type": "slide"
    }
   },
   "source": [
    "# Extending the Mk model\n",
    "- Wright, Lloyd and Hillis 2016, adapting Mr. Bayes\n",
    "\n",
    "<img src=\"assets/4symmetry.png\" alt=\"drawing\" width=\"400\"/>\n"
   ]
  },
  {
   "cell_type": "markdown",
   "metadata": {
    "slideshow": {
     "slide_type": "slide"
    }
   },
   "source": [
    "# Extending the Mk model\n",
    "\n",
    "- Wright, Lloyd and Hillis 2016, adapting Mr. Bayes\n",
    "\n",
    "<img src=\"assets/4asymmetry.png\" alt=\"drawing\" width=\"600\"/>\n"
   ]
  },
  {
   "cell_type": "markdown",
   "metadata": {
    "slideshow": {
     "slide_type": "slide"
    }
   },
   "source": [
    "# Presence of stem ants\n",
    "- \" ... morphologically plesiomorphic and generalized with affinities to both modern ants and wasps...\" - Barden and Grimaldi (2016)\n",
    "<img src=\"assets/Sphecomyrma_freyi_AMNH-NJ943A.jpg\" alt=\"drawing\" width=\"600\"/>\n",
    "\n",
    "\n"
   ]
  },
  {
   "cell_type": "markdown",
   "metadata": {
    "slideshow": {
     "slide_type": "slide"
    }
   },
   "source": [
    "# Extending the Mk model\n",
    "- Wright, Lloyd and Hillis 2016, adapting Mr. Bayes\n",
    "<img src=\"assets/2symmetry.png\" alt=\"drawing\" width=\"400\"/>\n",
    "\n",
    "## _A priori_, we likely know very little about the actual transition rate (respresented by the arrow)"
   ]
  },
  {
   "cell_type": "markdown",
   "metadata": {
    "slideshow": {
     "slide_type": "slide"
    }
   },
   "source": [
    "# Extending the Mk model\n",
    "- Wright, Lloyd and Hillis 2016, adapting Mr. Bayes\n",
    "<img src=\"assets/2symmetry.png\" alt=\"drawing\" width=\"400\"/>\n",
    "\n",
    "## But equilibrium character frequencies are a common facet in phylogenetic models."
   ]
  },
  {
   "cell_type": "markdown",
   "metadata": {
    "slideshow": {
     "slide_type": "slide"
    }
   },
   "source": [
    "# Extending the Mk model\n",
    "\n",
    "- In most Bayesian models, the probability of observing a transition between state `0` and state `1` depends not only on the transition rate, but how common state zero is\n",
    "\n",
    "## Observed = (probability of transition) * (frequency of starting state) "
   ]
  },
  {
   "cell_type": "markdown",
   "metadata": {
    "slideshow": {
     "slide_type": "slide"
    }
   },
   "source": [
    "# Extending the Mk model\n",
    "- Wright, Lloyd and Hillis 2016, adapting Mr. Bayes\n",
    "<img src=\"assets/4eqtrsymmetry.png\" alt=\"drawing\" width=\"600\"/>\n",
    "\n",
    "## Equilibrium character frequencies are a common facet in phylogenetic models."
   ]
  },
  {
   "cell_type": "markdown",
   "metadata": {
    "slideshow": {
     "slide_type": "slide"
    }
   },
   "source": [
    "# Extending the Mk model\n",
    "- In most Bayesian models, the probability of observing a transition between state `0` and state `1` depends not only on the transition rate, but how common state zero is\n",
    "<img src=\"assets/catplate.png\" alt=\"drawing\" width=\"500\"/>\n",
    "\n",
    "## Observed = (probability of transition) * (frequency of starting state) "
   ]
  },
  {
   "cell_type": "code",
   "execution_count": 1,
   "metadata": {
    "code_folding": [],
    "slideshow": {
     "slide_type": "skip"
    }
   },
   "outputs": [
    {
     "data": {
      "text/plain": [
       "Text(0.5, 0, 'Proportion of 0 to 1 changes')"
      ]
     },
     "execution_count": 1,
     "metadata": {},
     "output_type": "execute_result"
    }
   ],
   "source": [
    "#\n",
    "import matplotlib.pyplot as plt\n",
    "import numpy as np\n",
    "from scipy.stats import beta\n",
    "\n",
    "fig, ax = plt.subplots(1, 1)\n",
    "base_mk = .5\n",
    "ax.axvline(base_mk)\n",
    "ax.set_ylabel(\"Proportion of characters\", fontsize=17)\n",
    "ax.tick_params(labelsize=16, pad=8)\n",
    "ax.set_xlabel(\"Proportion of 0 to 1 changes\", fontsize=17)"
   ]
  },
  {
   "cell_type": "markdown",
   "metadata": {
    "slideshow": {
     "slide_type": "skip"
    }
   },
   "source": [
    "# Extending the Mk model\n",
    "\n",
    "- Wright, Lloyd and Hillis 2016, adapting Mr. Bayes\n"
   ]
  },
  {
   "cell_type": "code",
   "execution_count": 2,
   "metadata": {
    "code_folding": [
     0
    ],
    "slideshow": {
     "slide_type": "skip"
    }
   },
   "outputs": [
    {
     "data": {
      "text/plain": [
       "Text(0.5, 0, 'Proportion of 0 to 1 changes')"
      ]
     },
     "execution_count": 2,
     "metadata": {},
     "output_type": "execute_result"
    },
    {
     "data": {
      "image/png": "[encoded data removed]",
      "text/plain": [
       "<Figure size 432x288 with 1 Axes>"
      ]
     },
     "metadata": {},
     "output_type": "display_data"
    }
   ],
   "source": [
    "#\n",
    "fig, ax = plt.subplots(1, 1)\n",
    "a, b = 1, 1\n",
    "mean, var, skew, kurt = beta.stats(a, b, moments='mvsk')\n",
    "base_mk = .5\n",
    "ax.axvline(base_mk)\n",
    "x = np.linspace(beta.ppf(0.01, a, b), beta.ppf(0.99, a, b), 100)\n",
    "ax.plot(x, beta.pdf(x, a, b), 'r-')\n",
    "ax.set_ylabel(\"Proportion of characters\", fontsize=17)\n",
    "ax.tick_params(labelsize=16, pad=8)\n",
    "ax.set_xlabel(\"Proportion of 0 to 1 changes\", fontsize=17)\n"
   ]
  },
  {
   "cell_type": "markdown",
   "metadata": {
    "slideshow": {
     "slide_type": "skip"
    }
   },
   "source": [
    "# Extending the Mk model\n",
    "\n",
    "- Wright, Lloyd and Hillis 2016, adapting Mr. Bayes\n"
   ]
  },
  {
   "cell_type": "code",
   "execution_count": 3,
   "metadata": {
    "code_folding": [
     0
    ],
    "slideshow": {
     "slide_type": "skip"
    }
   },
   "outputs": [
    {
     "data": {
      "text/plain": [
       "Text(0.5, 0, 'Proportion of 0 to 1 changes')"
      ]
     },
     "execution_count": 3,
     "metadata": {},
     "output_type": "execute_result"
    },
    {
     "data": {
      "image/png": "[encoded data removed]",
      "text/plain": [
       "<Figure size 432x288 with 1 Axes>"
      ]
     },
     "metadata": {},
     "output_type": "display_data"
    }
   ],
   "source": [
    "#\n",
    "fig, ax = plt.subplots(1, 1)\n",
    "a, b = 1, 1\n",
    "mean, var, skew, kurt = beta.stats(a, b, moments='mvsk')\n",
    "a1, b1 = .01, .01\n",
    "mean1, var1, skew1, kurt1 = beta.stats(a1, b1, moments='mvsk')\n",
    "base_mk = .5\n",
    "ax.axvline(base_mk)\n",
    "x = np.linspace(beta.ppf(0.01, a, b), beta.ppf(0.99, a, b), 100)\n",
    "x1 = np.linspace(beta.ppf(0.01, a1, b1), beta.ppf(0.99, a, b), 100)\n",
    "\n",
    "ax.plot(x, beta.pdf(x, a, b), 'r-')\n",
    "ax.plot(x1, beta.pdf(x, a1, b1), 'g-')\n",
    "\n",
    "ax.set_ylabel(\"Proportion of characters\", fontsize=17)\n",
    "ax.tick_params(labelsize=16, pad=8)\n",
    "ax.set_xlabel(\"Proportion of 0 to 1 changes\", fontsize=17)"
   ]
  },
  {
   "cell_type": "markdown",
   "metadata": {
    "slideshow": {
     "slide_type": "skip"
    }
   },
   "source": [
    "# Extending the Mk model\n",
    "\n",
    "- Wright, Lloyd and Hillis 2016, adapting Mr. Bayes\n"
   ]
  },
  {
   "cell_type": "code",
   "execution_count": 4,
   "metadata": {
    "code_folding": [
     0
    ],
    "slideshow": {
     "slide_type": "skip"
    }
   },
   "outputs": [
    {
     "data": {
      "text/plain": [
       "Text(0.5, 0, 'Proportion of 0 to 1 changes')"
      ]
     },
     "execution_count": 4,
     "metadata": {},
     "output_type": "execute_result"
    },
    {
     "data": {
      "image/png": "[encoded data removed]",
      "text/plain": [
       "<Figure size 432x288 with 1 Axes>"
      ]
     },
     "metadata": {},
     "output_type": "display_data"
    }
   ],
   "source": [
    "#\n",
    "fig, ax = plt.subplots(1, 1)\n",
    "a, b = 1, 1\n",
    "mean, var, skew, kurt = beta.stats(a, b, moments='mvsk')\n",
    "a1, b1 = .01, .01\n",
    "mean1, var1, skew1, kurt1 = beta.stats(a1, b1, moments='mvsk')\n",
    "base_mk = .5\n",
    "ax.axvline(base_mk)\n",
    "x = np.linspace(beta.ppf(0.01, a, b), beta.ppf(0.99, a, b), 100)\n",
    "x1 = np.linspace(beta.ppf(0.01, a1, b1), beta.ppf(0.99, a, b), 100)\n",
    "\n",
    "ax.plot(x, beta.pdf(x, a, b), 'r-')\n",
    "ax.plot(x1, beta.pdf(x, a1, b1), 'g-')\n",
    "base_q1 = .2\n",
    "base_q2 = .4\n",
    "base_q3 = .6\n",
    "base_q4 = .8\n",
    "\n",
    "ax.axvline(base_q1, color = \"red\", ls=\"dashed\")\n",
    "ax.axvline(base_q2, color = \"red\", ls=\"dashed\")\n",
    "ax.axvline(base_q3, color = \"red\", ls=\"dashed\")\n",
    "ax.axvline(base_q4, color = \"red\", ls=\"dashed\")\n",
    "\n",
    "\n",
    "ax.set_ylabel(\"Proportion of characters\", fontsize=17)\n",
    "ax.tick_params(labelsize=16, pad=8)\n",
    "ax.set_xlabel(\"Proportion of 0 to 1 changes\", fontsize=17)"
   ]
  },
  {
   "cell_type": "markdown",
   "metadata": {
    "slideshow": {
     "slide_type": "slide"
    }
   },
   "source": [
    "# Extending the Mk model\n",
    "- Wright, Pett, Jenkins, Johnson, Mendoza, and Heath, in prep, new methods in RevBayes for modeling characters\n",
    "- This model allows a straight-forward extension to multistate characters\n",
    "<img src=\"assets/catplate.png\" alt=\"drawing\" width=\"600\"/>\n",
    "\n"
   ]
  },
  {
   "cell_type": "markdown",
   "metadata": {
    "slideshow": {
     "slide_type": "slide"
    }
   },
   "source": [
    "# Why extend the model\n",
    "<img src=\"assets/aln_chars.png\" alt=\"drawing\" width=\"600\"/>\n",
    "\n",
    "    "
   ]
  },
  {
   "cell_type": "markdown",
   "metadata": {
    "slideshow": {
     "slide_type": "slide"
    }
   },
   "source": [
    "# Dataset\n",
    "\n",
    "- Multistate dataset of fossil ants from Barden (2016)\n",
    "- Combined with extant ants Keller (2011)\n",
    "- Estimated phylogeny from:\n",
    "    - Each dataset individually\n",
    "    - Each dataset individually, pared down to binary characters\n",
    "    - Combined dataset\n",
    "    - Combined dataset, pared down to binary characters"
   ]
  },
  {
   "cell_type": "markdown",
   "metadata": {
    "slideshow": {
     "slide_type": "slide"
    }
   },
   "source": [
    "# Why extend the model\n",
    "<img src=\"assets/aln_chars.png\" alt=\"drawing\" width=\"600\"/>\n",
    "\n",
    "    "
   ]
  },
  {
   "cell_type": "markdown",
   "metadata": {
    "slideshow": {
     "slide_type": "slide"
    }
   },
   "source": [
    "# Why extend the model\n",
    "### Models matter more when the problem is hard\n",
    "<img src=\"assets/modelHard.png\" alt=\"drawing\" width=\"600\"/>\n"
   ]
  },
  {
   "cell_type": "markdown",
   "metadata": {
    "slideshow": {
     "slide_type": "slide"
    }
   },
   "source": [
    "# Why extend the model\n",
    "\n",
    "- Testability\n",
    "    - Bayesian methods have a rich and flexible literature on testing to check goodness of model fit, and to compete models against one another\n"
   ]
  },
  {
   "cell_type": "markdown",
   "metadata": {
    "slideshow": {
     "slide_type": "slide"
    }
   },
   "source": [
    "# Model Fit\n",
    "- Our flexible model fits the data better than the unexpanded Mk model\n",
    "<img src=\"assets/SS_plot_nostar.png\" alt=\"drawing\" width=\"1200\"/>\n",
    "\n"
   ]
  },
  {
   "cell_type": "markdown",
   "metadata": {
    "slideshow": {
     "slide_type": "slide"
    }
   },
   "source": [
    "# Maximum Clade Credibility Tree\n",
    "\n",
    "\n",
    "<img src=\"assets/AnnotatedTree.png\" alt=\"drawing\" width=\"600\"/>\n",
    "\n"
   ]
  },
  {
   "cell_type": "markdown",
   "metadata": {
    "slideshow": {
     "slide_type": "slide"
    }
   },
   "source": [
    "# Consensus tree considerably unresolved\n",
    " <img src=\"assets/bardenstrict.tre.png\" alt=\"drawing\" width=\"800\"/>\n"
   ]
  },
  {
   "cell_type": "markdown",
   "metadata": {
    "slideshow": {
     "slide_type": "slide"
    }
   },
   "source": [
    "# An improved model of morphology brings molecular and morphological estimates of the age of ants closer together\n",
    "\n",
    "\n",
    "![assets/origin_time.png](assets/OT.png)\n"
   ]
  },
  {
   "cell_type": "markdown",
   "metadata": {
    "slideshow": {
     "slide_type": "slide"
    }
   },
   "source": [
    "# Conclusions\n",
    "\n",
    "- Parsimony vs. Bayesian is the wrong question\n",
    "- The real question is \"How can I incorporate my knowledge as a systematist into my mathematical models?\"\n"
   ]
  },
  {
   "cell_type": "markdown",
   "metadata": {
    "slideshow": {
     "slide_type": "slide"
    }
   },
   "source": [
    "# Conclusions\n",
    "\n",
    "- Parsimony vs. Bayesian is the wrong question\n",
    "- The real question is \"How can I incorporate my knowledge as a systematist into my mathematical models?\"\n",
    "- When we do this, we are less certain of the answer"
   ]
  },
  {
   "cell_type": "markdown",
   "metadata": {
    "slideshow": {
     "slide_type": "slide"
    }
   },
   "source": [
    "# Conclusions\n",
    "\n",
    "- Parsimony vs. Bayesian is the wrong question\n",
    "- The real question is \"How can I incorporate my knowledge as a systematist into my mathematical models?\"\n",
    "- When we do this, we are less certain of the answer\n",
    "    - Probably, we can't resolve the ant phylogeny from morphology alone\n",
    "    - But the model shows promise for jointly analysing molecules and fossils together\n",
    "     - This model shows promise for integrating the whole of the knowledge from careful morphological systematics with the sampling effort and knowledge of molecular systematics"
   ]
  },
  {
   "cell_type": "markdown",
   "metadata": {
    "slideshow": {
     "slide_type": "slide"
    }
   },
   "source": [
    "# Thank you!\n",
    "\n",
    "- Walker Pett, Tracy Heath, Rachael Johnson, Katharyn Jenkins, Patrick Mendoza\n",
    "- Moreau Lab\n",
    "- Brendon E. Boudinot \n",
    "\n",
    "    \n",
    "<table><tr>\n",
    "<td> <img src=\"assets/VpXKwbu1_400x400.jpg\" alt=\"Drawing\" style=\"width: 300px;\"/> </td>\n",
    "<td> <img src=\"assets/LBRN.png\" alt=\"Drawing\" style=\"width: 300px;\"/> </td>\n",
    "<td> <img src=\"assets/NSF.png\" alt=\"Drawing\" style=\"width: 300px;\"/> </td>\n",
    "</tr></table>\n",
    "\n",
    "Slides: https://figshare.com/account/articles/7332911\n",
    "Binder: \n"
   ]
  },
  {
   "cell_type": "code",
   "execution_count": null,
   "metadata": {},
   "outputs": [],
   "source": []
  }
 ],
 "metadata": {
  "celltoolbar": "Slideshow",
  "kernelspec": {
   "display_name": "Python 3",
   "language": "python",
   "name": "python3"
  },
  "language_info": {
   "codemirror_mode": {
    "name": "ipython",
    "version": 3
   },
   "file_extension": ".py",
   "mimetype": "text/x-python",
   "name": "python",
   "nbconvert_exporter": "python",
   "pygments_lexer": "ipython3",
   "version": "3.6.4"
  },
  "latex_envs": {
   "LaTeX_envs_menu_present": true,
   "autoclose": false,
   "autocomplete": true,
   "bibliofile": "biblio.bib",
   "cite_by": "apalike",
   "current_citInitial": 1,
   "eqLabelWithNumbers": true,
   "eqNumInitial": 1,
   "hotkeys": {
    "equation": "Ctrl-E",
    "itemize": "Ctrl-I"
   },
   "labels_anchors": false,
   "latex_user_defs": false,
   "report_style_numbering": true,
   "user_envs_cfg": false
  }
 },
 "nbformat": 4,
 "nbformat_minor": 2
}
